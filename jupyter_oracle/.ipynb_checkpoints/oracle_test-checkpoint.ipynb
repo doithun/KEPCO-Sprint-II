{
 "cells": [
  {
   "cell_type": "code",
   "execution_count": 3,
   "id": "945bca45",
   "metadata": {},
   "outputs": [],
   "source": [
    "import cx_Oracle"
   ]
  },
  {
   "cell_type": "code",
   "execution_count": 4,
   "id": "652d66a7",
   "metadata": {},
   "outputs": [],
   "source": [
    "### 오라클 서버를 찾아가기\n",
    "dns = cx_Oracle.makedsn('localhost', 1521, 'xe')"
   ]
  },
  {
   "cell_type": "code",
   "execution_count": 5,
   "id": "36c8a5dc",
   "metadata": {},
   "outputs": [],
   "source": [
    "### 오라클 서버 안에 데이터베이스 정보로 접속하기\n",
    "conn = cx_Oracle.connect('gwangju_b', 'dbdb', dns)"
   ]
  },
  {
   "cell_type": "code",
   "execution_count": 6,
   "id": "b59c819f",
   "metadata": {},
   "outputs": [],
   "source": [
    "### 오라클 서버에 SQL구문을 전달하고,\n",
    "### 결과값을 받아오는 담당자 받아오기..\n",
    "cursor = conn.cursor()"
   ]
  },
  {
   "cell_type": "code",
   "execution_count": 7,
   "id": "1b4ca26d",
   "metadata": {
    "scrolled": false
   },
   "outputs": [
    {
     "data": {
      "text/plain": [
       "[('b001',\n",
       "  '1004',\n",
       "  '이쁜이',\n",
       "  '741004',\n",
       "  '2900000',\n",
       "  datetime.datetime(1974, 1, 7, 0, 0),\n",
       "  '700-030',\n",
       "  '서울시 천사동 예쁜마을',\n",
       "  '1004-29',\n",
       "  '02-888-9999',\n",
       "  '02-888-9999',\n",
       "  '016-888-9999',\n",
       "  'engelcd@pretty.net',\n",
       "  '회사원',\n",
       "  '수영',\n",
       "  '아버님생신',\n",
       "  datetime.datetime(1999, 2, 12, 0, 0),\n",
       "  2300,\n",
       "  None)]"
      ]
     },
     "execution_count": 7,
     "metadata": {},
     "output_type": "execute_result"
    }
   ],
   "source": [
    "sql = \"\"\"\n",
    "        select * from member\n",
    "        where mem_id = 'b001' and mem_pass = '1004' \n",
    "\"\"\"\n",
    "\n",
    "cursor.execute(sql)\n",
    "\n",
    "row = cursor.fetchall()\n",
    "\n",
    "row"
   ]
  },
  {
   "cell_type": "code",
   "execution_count": 8,
   "id": "fff46ae5",
   "metadata": {},
   "outputs": [
    {
     "data": {
      "text/plain": [
       "[('MEM_ID', <cx_Oracle.DbType DB_TYPE_VARCHAR>, 15, 15, None, None, 0),\n",
       " ('MEM_PASS', <cx_Oracle.DbType DB_TYPE_VARCHAR>, 15, 15, None, None, 0),\n",
       " ('MEM_NAME', <cx_Oracle.DbType DB_TYPE_VARCHAR>, 20, 20, None, None, 0),\n",
       " ('MEM_REGNO1', <cx_Oracle.DbType DB_TYPE_CHAR>, 6, 6, None, None, 0),\n",
       " ('MEM_REGNO2', <cx_Oracle.DbType DB_TYPE_CHAR>, 7, 7, None, None, 0),\n",
       " ('MEM_BIR', <cx_Oracle.DbType DB_TYPE_DATE>, 23, None, None, None, 1),\n",
       " ('MEM_ZIP', <cx_Oracle.DbType DB_TYPE_CHAR>, 7, 7, None, None, 0),\n",
       " ('MEM_ADD1', <cx_Oracle.DbType DB_TYPE_VARCHAR>, 100, 100, None, None, 0),\n",
       " ('MEM_ADD2', <cx_Oracle.DbType DB_TYPE_VARCHAR>, 80, 80, None, None, 0),\n",
       " ('MEM_HOMETEL', <cx_Oracle.DbType DB_TYPE_VARCHAR>, 14, 14, None, None, 0),\n",
       " ('MEM_COMTEL', <cx_Oracle.DbType DB_TYPE_VARCHAR>, 14, 14, None, None, 0),\n",
       " ('MEM_HP', <cx_Oracle.DbType DB_TYPE_VARCHAR>, 15, 15, None, None, 1),\n",
       " ('MEM_MAIL', <cx_Oracle.DbType DB_TYPE_VARCHAR>, 40, 40, None, None, 0),\n",
       " ('MEM_JOB', <cx_Oracle.DbType DB_TYPE_VARCHAR>, 40, 40, None, None, 1),\n",
       " ('MEM_LIKE', <cx_Oracle.DbType DB_TYPE_VARCHAR>, 40, 40, None, None, 1),\n",
       " ('MEM_MEMORIAL', <cx_Oracle.DbType DB_TYPE_VARCHAR>, 40, 40, None, None, 1),\n",
       " ('MEM_MEMORIALDAY', <cx_Oracle.DbType DB_TYPE_DATE>, 23, None, None, None, 1),\n",
       " ('MEM_MILEAGE', <cx_Oracle.DbType DB_TYPE_NUMBER>, 11, None, 10, 0, 1),\n",
       " ('MEM_DELETE', <cx_Oracle.DbType DB_TYPE_VARCHAR>, 1, 1, None, None, 1)]"
      ]
     },
     "execution_count": 8,
     "metadata": {},
     "output_type": "execute_result"
    }
   ],
   "source": [
    "### 컬럼명 조회하기\n",
    "colname = cursor.description\n",
    "\n",
    "colname"
   ]
  },
  {
   "cell_type": "code",
   "execution_count": 9,
   "id": "40b441d2",
   "metadata": {
    "scrolled": true
   },
   "outputs": [
    {
     "data": {
      "text/plain": [
       "['MEM_ID',\n",
       " 'MEM_PASS',\n",
       " 'MEM_NAME',\n",
       " 'MEM_REGNO1',\n",
       " 'MEM_REGNO2',\n",
       " 'MEM_BIR',\n",
       " 'MEM_ZIP',\n",
       " 'MEM_ADD1',\n",
       " 'MEM_ADD2',\n",
       " 'MEM_HOMETEL',\n",
       " 'MEM_COMTEL',\n",
       " 'MEM_HP',\n",
       " 'MEM_MAIL',\n",
       " 'MEM_JOB',\n",
       " 'MEM_LIKE',\n",
       " 'MEM_MEMORIAL',\n",
       " 'MEM_MEMORIALDAY',\n",
       " 'MEM_MILEAGE',\n",
       " 'MEM_DELETE']"
      ]
     },
     "execution_count": 9,
     "metadata": {},
     "output_type": "execute_result"
    }
   ],
   "source": [
    "### 컬럼명만 추출하여 리스트에 담기\n",
    "\n",
    "col = []\n",
    "\n",
    "for c in colname:\n",
    "    col.append(c[0])\n",
    "    \n",
    "col"
   ]
  },
  {
   "cell_type": "code",
   "execution_count": 10,
   "id": "6c7546d2",
   "metadata": {
    "scrolled": false
   },
   "outputs": [
    {
     "data": {
      "text/plain": [
       "[{'MEM_ID': 'b001',\n",
       "  'MEM_PASS': '1004',\n",
       "  'MEM_NAME': '이쁜이',\n",
       "  'MEM_REGNO1': '741004',\n",
       "  'MEM_REGNO2': '2900000',\n",
       "  'MEM_BIR': datetime.datetime(1974, 1, 7, 0, 0),\n",
       "  'MEM_ZIP': '700-030',\n",
       "  'MEM_ADD1': '서울시 천사동 예쁜마을',\n",
       "  'MEM_ADD2': '1004-29',\n",
       "  'MEM_HOMETEL': '02-888-9999',\n",
       "  'MEM_COMTEL': '02-888-9999',\n",
       "  'MEM_HP': '016-888-9999',\n",
       "  'MEM_MAIL': 'engelcd@pretty.net',\n",
       "  'MEM_JOB': '회사원',\n",
       "  'MEM_LIKE': '수영',\n",
       "  'MEM_MEMORIAL': '아버님생신',\n",
       "  'MEM_MEMORIALDAY': datetime.datetime(1999, 2, 12, 0, 0),\n",
       "  'MEM_MILEAGE': 2300,\n",
       "  'MEM_DELETE': None}]"
      ]
     },
     "execution_count": 10,
     "metadata": {},
     "output_type": "execute_result"
    }
   ],
   "source": [
    "    list_row = []\n",
    "    \n",
    "    for columns in row :\n",
    "        dict_col = {}\n",
    "        \n",
    "        for i in range(0, len(columns), 1) :\n",
    "            dict_col[col[i]] = columns[i]\n",
    "\n",
    "        list_row.append(dict_col)\n",
    "        \n",
    "list_row"
   ]
  },
  {
   "cell_type": "code",
   "execution_count": 1,
   "id": "d49e86f5",
   "metadata": {
    "scrolled": false
   },
   "outputs": [
    {
     "name": "stdout",
     "output_type": "stream",
     "text": [
      "1\n",
      "2\n",
      "3\n",
      "4\n",
      "5\n",
      "6\n",
      "7\n",
      "8\n",
      "9\n",
      "10\n"
     ]
    }
   ],
   "source": [
    "for i in range(1, 10+1) :\n",
    "    print(i)"
   ]
  }
 ],
 "metadata": {
  "kernelspec": {
   "display_name": "conda_env_kernel",
   "language": "python",
   "name": "conda_env"
  },
  "language_info": {
   "codemirror_mode": {
    "name": "ipython",
    "version": 3
   },
   "file_extension": ".py",
   "mimetype": "text/x-python",
   "name": "python",
   "nbconvert_exporter": "python",
   "pygments_lexer": "ipython3",
   "version": "3.10.9"
  }
 },
 "nbformat": 4,
 "nbformat_minor": 5
}
