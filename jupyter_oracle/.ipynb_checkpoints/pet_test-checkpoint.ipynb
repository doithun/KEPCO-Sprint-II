{
 "cells": [
  {
   "cell_type": "code",
   "execution_count": 1,
   "id": "945bca45",
   "metadata": {},
   "outputs": [],
   "source": [
    "import cx_Oracle"
   ]
  },
  {
   "cell_type": "code",
   "execution_count": 2,
   "id": "652d66a7",
   "metadata": {},
   "outputs": [],
   "source": [
    "### 오라클 서버를 찾아가기\n",
    "dns = cx_Oracle.makedsn('localhost', 1521, 'xe')"
   ]
  },
  {
   "cell_type": "code",
   "execution_count": 3,
   "id": "36c8a5dc",
   "metadata": {},
   "outputs": [],
   "source": [
    "### 오라클 서버 안에 데이터베이스 정보로 접속하기\n",
    "conn = cx_Oracle.connect('pet', 'dbdb', dns)"
   ]
  },
  {
   "cell_type": "code",
   "execution_count": 4,
   "id": "b59c819f",
   "metadata": {},
   "outputs": [],
   "source": [
    "### 오라클 서버에 SQL구문을 전달하고,\n",
    "### 결과값을 받아오는 담당자 받아오기..\n",
    "cursor = conn.cursor()"
   ]
  },
  {
   "cell_type": "code",
   "execution_count": 16,
   "id": "1b4ca26d",
   "metadata": {
    "scrolled": false
   },
   "outputs": [
    {
     "data": {
      "text/plain": [
       "1"
      ]
     },
     "execution_count": 16,
     "metadata": {},
     "output_type": "execute_result"
    }
   ],
   "source": [
    "sql = \"\"\"\n",
    "        SELECT NVL(MAX(REQ_NO), 0) + 1  as req_no \n",
    "        FROM DOG_FIND\n",
    "\"\"\"\n",
    "\n",
    "cursor.execute(sql)\n",
    "\n",
    "row = cursor.fetchall()\n",
    "\n",
    "\n",
    "\n",
    "row[0]\n",
    "\n",
    "### 컬럼명 조회하기\n",
    "colname = cursor.description\n",
    "\n",
    "col = []\n",
    "\n",
    "for c in colname:\n",
    "    col.append(c[0].lower())   \n",
    "        \n",
    "dict_col = {}\n",
    "\n",
    "for i in range(0, len(row), 1) :\n",
    "    dict_col[col[i]] = row[i]\n",
    "\n",
    "dict_col\n",
    "\n",
    "dict_col[\"req_no\"][0]"
   ]
  },
  {
   "cell_type": "code",
   "execution_count": null,
   "id": "6244911e",
   "metadata": {},
   "outputs": [],
   "source": []
  }
 ],
 "metadata": {
  "kernelspec": {
   "display_name": "conda_env_kernel",
   "language": "python",
   "name": "conda_env"
  },
  "language_info": {
   "codemirror_mode": {
    "name": "ipython",
    "version": 3
   },
   "file_extension": ".py",
   "mimetype": "text/x-python",
   "name": "python",
   "nbconvert_exporter": "python",
   "pygments_lexer": "ipython3",
   "version": "3.10.9"
  }
 },
 "nbformat": 4,
 "nbformat_minor": 5
}
