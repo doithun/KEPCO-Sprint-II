{
 "cells": [
  {
   "cell_type": "code",
   "execution_count": 4,
   "id": "945bca45",
   "metadata": {},
   "outputs": [],
   "source": [
    "import cx_Oracle"
   ]
  },
  {
   "cell_type": "code",
   "execution_count": 5,
   "id": "652d66a7",
   "metadata": {},
   "outputs": [],
   "source": [
    "### 오라클 서버를 찾아가기\n",
    "dns = cx_Oracle.makedsn('localhost', 1521, 'xe')"
   ]
  },
  {
   "cell_type": "code",
   "execution_count": 6,
   "id": "36c8a5dc",
   "metadata": {},
   "outputs": [],
   "source": [
    "### 오라클 서버 안에 데이터베이스 정보로 접속하기\n",
    "conn = cx_Oracle.connect('pet', 'dbdb', dns)"
   ]
  },
  {
   "cell_type": "code",
   "execution_count": 7,
   "id": "b59c819f",
   "metadata": {},
   "outputs": [],
   "source": [
    "### 오라클 서버에 SQL구문을 전달하고,\n",
    "### 결과값을 받아오는 담당자 받아오기..\n",
    "cursor = conn.cursor()"
   ]
  },
  {
   "cell_type": "code",
   "execution_count": 10,
   "id": "1b4ca26d",
   "metadata": {
    "scrolled": false
   },
   "outputs": [
    {
     "data": {
      "text/plain": [
       "'/static/petmgapp/file_manager/퐁키_RdvOSkQ.jpg'"
      ]
     },
     "execution_count": 10,
     "metadata": {},
     "output_type": "execute_result"
    }
   ],
   "source": [
    "sql = \"\"\"\n",
    "                Select popfile From DOG_FIND\n",
    "                    where req_no =: req_no \n",
    "                        And f_mem_id =: f_mem_id\n",
    "    \"\"\"\n",
    "    \n",
    "cursor.execute(sql, req_no=2, f_mem_id=\"lsh\")\n",
    "\n",
    "row = cursor.fetchone()\n",
    "\n",
    "row[0]"
   ]
  },
  {
   "cell_type": "code",
   "execution_count": null,
   "id": "45ffe71b",
   "metadata": {},
   "outputs": [],
   "source": []
  }
 ],
 "metadata": {
  "kernelspec": {
   "display_name": "conda_env",
   "language": "python",
   "name": "python3"
  },
  "language_info": {
   "codemirror_mode": {
    "name": "ipython",
    "version": 3
   },
   "file_extension": ".py",
   "mimetype": "text/x-python",
   "name": "python",
   "nbconvert_exporter": "python",
   "pygments_lexer": "ipython3",
   "version": "3.10.9"
  }
 },
 "nbformat": 4,
 "nbformat_minor": 5
}
